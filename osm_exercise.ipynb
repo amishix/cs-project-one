{
 "cells": [
  {
   "cell_type": "code",
   "execution_count": 6,
   "metadata": {},
   "outputs": [
    {
     "ename": "ModuleNotFoundError",
     "evalue": "No module named 'OSMPythonTools'",
     "output_type": "error",
     "traceback": [
      "\u001b[0;31m---------------------------------------------------------------------------\u001b[0m",
      "\u001b[0;31mModuleNotFoundError\u001b[0m                       Traceback (most recent call last)",
      "\u001b[1;32m/Users/amishisharma/cs-project-one/osm_exercise.ipynb Cell 1\u001b[0m line \u001b[0;36m1\n\u001b[0;32m----> <a href='vscode-notebook-cell:/Users/amishisharma/cs-project-one/osm_exercise.ipynb#W0sZmlsZQ%3D%3D?line=0'>1</a>\u001b[0m \u001b[39mfrom\u001b[39;00m \u001b[39mOSMPythonTools\u001b[39;00m\u001b[39m.\u001b[39;00m\u001b[39mapi\u001b[39;00m \u001b[39mimport\u001b[39;00m Api\n\u001b[1;32m      <a href='vscode-notebook-cell:/Users/amishisharma/cs-project-one/osm_exercise.ipynb#W0sZmlsZQ%3D%3D?line=1'>2</a>\u001b[0m api \u001b[39m=\u001b[39m Api()\n\u001b[1;32m      <a href='vscode-notebook-cell:/Users/amishisharma/cs-project-one/osm_exercise.ipynb#W0sZmlsZQ%3D%3D?line=2'>3</a>\u001b[0m way \u001b[39m=\u001b[39m api\u001b[39m.\u001b[39mquery(\u001b[39m'\u001b[39m\u001b[39mway/5887599\u001b[39m\u001b[39m'\u001b[39m)\n",
      "\u001b[0;31mModuleNotFoundError\u001b[0m: No module named 'OSMPythonTools'"
     ]
    }
   ],
   "source": [
    "from OSMPythonTools.api import Api\n",
    "api = Api()\n",
    "way = api.query('way/5887599')"
   ]
  },
  {
   "cell_type": "code",
   "execution_count": 7,
   "metadata": {},
   "outputs": [
    {
     "name": "stdout",
     "output_type": "stream",
     "text": [
      "Defaulting to user installation because normal site-packages is not writeable\n",
      "Collecting OSMPythonTools\n",
      "  Downloading OSMPythonTools-0.3.5.tar.gz (28 kB)\n",
      "Collecting beautifulsoup4\n",
      "  Downloading beautifulsoup4-4.12.2-py3-none-any.whl (142 kB)\n",
      "\u001b[K     |████████████████████████████████| 142 kB 8.4 MB/s eta 0:00:01\n",
      "\u001b[?25hCollecting geojson\n",
      "  Downloading geojson-3.0.1-py3-none-any.whl (15 kB)\n",
      "Collecting lxml\n",
      "  Downloading lxml-4.9.3.tar.gz (3.6 MB)\n",
      "\u001b[K     |████████████████████████████████| 3.6 MB 55.0 MB/s eta 0:00:01\n",
      "\u001b[?25hCollecting matplotlib\n",
      "  Downloading matplotlib-3.8.0-cp39-cp39-macosx_11_0_arm64.whl (7.5 MB)\n",
      "\u001b[K     |████████████████████████████████| 7.5 MB 54.8 MB/s eta 0:00:01\n",
      "\u001b[?25hRequirement already satisfied: numpy in /Users/amishisharma/Library/Python/3.9/lib/python/site-packages (from OSMPythonTools) (1.26.0)\n",
      "Requirement already satisfied: pandas in /Users/amishisharma/Library/Python/3.9/lib/python/site-packages (from OSMPythonTools) (2.1.1)\n",
      "Collecting ujson\n",
      "  Downloading ujson-5.8.0-cp39-cp39-macosx_11_0_arm64.whl (54 kB)\n",
      "\u001b[K     |████████████████████████████████| 54 kB 20.8 MB/s eta 0:00:01\n",
      "\u001b[?25hCollecting xarray\n",
      "  Downloading xarray-2023.9.0-py3-none-any.whl (1.0 MB)\n",
      "\u001b[K     |████████████████████████████████| 1.0 MB 51.1 MB/s eta 0:00:01\n",
      "\u001b[?25hCollecting soupsieve>1.2\n",
      "  Downloading soupsieve-2.5-py3-none-any.whl (36 kB)\n",
      "Collecting fonttools>=4.22.0\n",
      "  Downloading fonttools-4.43.1-cp39-cp39-macosx_10_9_universal2.whl (2.7 MB)\n",
      "\u001b[K     |████████████████████████████████| 2.7 MB 68.1 MB/s eta 0:00:01\n",
      "\u001b[?25hCollecting importlib-resources>=3.2.0\n",
      "  Downloading importlib_resources-6.1.0-py3-none-any.whl (33 kB)\n",
      "Collecting contourpy>=1.0.1\n",
      "  Downloading contourpy-1.1.1-cp39-cp39-macosx_11_0_arm64.whl (232 kB)\n",
      "\u001b[K     |████████████████████████████████| 232 kB 32.6 MB/s eta 0:00:01\n",
      "\u001b[?25hCollecting pyparsing>=2.3.1\n",
      "  Downloading pyparsing-3.1.1-py3-none-any.whl (103 kB)\n",
      "\u001b[K     |████████████████████████████████| 103 kB 42.0 MB/s eta 0:00:01\n",
      "\u001b[?25hRequirement already satisfied: python-dateutil>=2.7 in /Users/amishisharma/Library/Python/3.9/lib/python/site-packages (from matplotlib->OSMPythonTools) (2.8.2)\n",
      "Collecting cycler>=0.10\n",
      "  Downloading cycler-0.12.1-py3-none-any.whl (8.3 kB)\n",
      "Collecting pillow>=6.2.0\n",
      "  Downloading Pillow-10.0.1-cp39-cp39-macosx_11_0_arm64.whl (3.3 MB)\n",
      "\u001b[K     |████████████████████████████████| 3.3 MB 43.1 MB/s eta 0:00:01\n",
      "\u001b[?25hRequirement already satisfied: packaging>=20.0 in /Users/amishisharma/Library/Python/3.9/lib/python/site-packages (from matplotlib->OSMPythonTools) (23.2)\n",
      "Collecting kiwisolver>=1.0.1\n",
      "  Downloading kiwisolver-1.4.5-cp39-cp39-macosx_11_0_arm64.whl (66 kB)\n",
      "\u001b[K     |████████████████████████████████| 66 kB 24.9 MB/s eta 0:00:01\n",
      "\u001b[?25hRequirement already satisfied: zipp>=3.1.0 in /Users/amishisharma/Library/Python/3.9/lib/python/site-packages (from importlib-resources>=3.2.0->matplotlib->OSMPythonTools) (3.17.0)\n",
      "Requirement already satisfied: six>=1.5 in /Library/Developer/CommandLineTools/Library/Frameworks/Python3.framework/Versions/3.9/lib/python3.9/site-packages (from python-dateutil>=2.7->matplotlib->OSMPythonTools) (1.15.0)\n",
      "Requirement already satisfied: tzdata>=2022.1 in /Users/amishisharma/Library/Python/3.9/lib/python/site-packages (from pandas->OSMPythonTools) (2023.3)\n",
      "Requirement already satisfied: pytz>=2020.1 in /Users/amishisharma/Library/Python/3.9/lib/python/site-packages (from pandas->OSMPythonTools) (2023.3.post1)\n",
      "Building wheels for collected packages: OSMPythonTools, lxml\n",
      "  Building wheel for OSMPythonTools (setup.py) ... \u001b[?25ldone\n",
      "\u001b[?25h  Created wheel for OSMPythonTools: filename=OSMPythonTools-0.3.5-py3-none-any.whl size=32721 sha256=b5bbc3635b1bcab8c94e206ce5f32358a685d9baed4ca525f81af9d88c5e8358\n",
      "  Stored in directory: /Users/amishisharma/Library/Caches/pip/wheels/24/da/ad/aff21ba9e9c127c4997d1f9b0251f17c5c13373524297ae6bd\n",
      "  Building wheel for lxml (setup.py) ... \u001b[?25ldone\n",
      "\u001b[?25h  Created wheel for lxml: filename=lxml-4.9.3-cp39-cp39-macosx_10_9_universal2.whl size=3109240 sha256=edfaf7fba47b60cb12630da121080b4e2c9401cc0048bde52e9d8bbe3e5c33c7\n",
      "  Stored in directory: /Users/amishisharma/Library/Caches/pip/wheels/5c/05/aa/530f84480d476c5bb9ea09877eea78fb144ec047fbb00ee2ca\n",
      "Successfully built OSMPythonTools lxml\n",
      "Installing collected packages: soupsieve, pyparsing, pillow, kiwisolver, importlib-resources, fonttools, cycler, contourpy, xarray, ujson, matplotlib, lxml, geojson, beautifulsoup4, OSMPythonTools\n",
      "Successfully installed OSMPythonTools-0.3.5 beautifulsoup4-4.12.2 contourpy-1.1.1 cycler-0.12.1 fonttools-4.43.1 geojson-3.0.1 importlib-resources-6.1.0 kiwisolver-1.4.5 lxml-4.9.3 matplotlib-3.8.0 pillow-10.0.1 pyparsing-3.1.1 soupsieve-2.5 ujson-5.8.0 xarray-2023.9.0\n",
      "\u001b[33mWARNING: You are using pip version 21.2.4; however, version 23.2.1 is available.\n",
      "You should consider upgrading via the '/Library/Developer/CommandLineTools/usr/bin/python3 -m pip install --upgrade pip' command.\u001b[0m\n",
      "Note: you may need to restart the kernel to use updated packages.\n"
     ]
    }
   ],
   "source": [
    "%pip install OSMPythonTools"
   ]
  },
  {
   "cell_type": "code",
   "execution_count": 8,
   "metadata": {},
   "outputs": [
    {
     "ename": "NameError",
     "evalue": "name 'way' is not defined",
     "output_type": "error",
     "traceback": [
      "\u001b[0;31m---------------------------------------------------------------------------\u001b[0m",
      "\u001b[0;31mNameError\u001b[0m                                 Traceback (most recent call last)",
      "\u001b[1;32m/Users/amishisharma/cs-project-one/osm_exercise.ipynb Cell 3\u001b[0m line \u001b[0;36m1\n\u001b[0;32m----> <a href='vscode-notebook-cell:/Users/amishisharma/cs-project-one/osm_exercise.ipynb#W2sZmlsZQ%3D%3D?line=0'>1</a>\u001b[0m way\u001b[39m.\u001b[39mtag(\u001b[39m'\u001b[39m\u001b[39mbuilding\u001b[39m\u001b[39m'\u001b[39m)\n",
      "\u001b[0;31mNameError\u001b[0m: name 'way' is not defined"
     ]
    }
   ],
   "source": [
    "way.tag('building')"
   ]
  }
 ],
 "metadata": {
  "kernelspec": {
   "display_name": "Python 3",
   "language": "python",
   "name": "python3"
  },
  "language_info": {
   "codemirror_mode": {
    "name": "ipython",
    "version": 3
   },
   "file_extension": ".py",
   "mimetype": "text/x-python",
   "name": "python",
   "nbconvert_exporter": "python",
   "pygments_lexer": "ipython3",
   "version": "3.9.6"
  }
 },
 "nbformat": 4,
 "nbformat_minor": 2
}
